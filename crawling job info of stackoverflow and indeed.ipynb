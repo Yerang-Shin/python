{
 "cells": [
  {
   "cell_type": "markdown",
   "metadata": {},
   "source": [
    "Stackoverflow 크롤링 연습 "
   ]
  },
  {
   "cell_type": "code",
   "execution_count": 4,
   "metadata": {},
   "outputs": [],
   "source": [
    "import requests \n",
    "from bs4 import BeautifulSoup"
   ]
  },
  {
   "cell_type": "code",
   "execution_count": 12,
   "metadata": {},
   "outputs": [],
   "source": [
    "URL = f\"https://stackoverflow.com/jobs?q=python\"\n",
    "\n",
    "\n",
    "def get_last_page():\n",
    "    result = requests.get(URL)\n",
    "    soup = BeautifulSoup(result.text, \"html.parser\")\n",
    "    pages = soup.find(\"div\", {\"class\": \"s-pagination\"}).find_all('a')\n",
    "    last_page = pages[-2].get_text(strip=True)\n",
    "    return int(last_page)\n",
    "\n",
    "\n",
    "def extract_job(html):\n",
    "    title = html.find(\"h2\", {\"class\": \"fc-black-800\"}).find(\"a\")[\"title\"]\n",
    "    company, location = html.find(\"h3\", {\n",
    "        \"class\": \"fc-black-700\"\n",
    "    }).find_all(\n",
    "        \"span\", recursive=False)\n",
    "    company = company.get_text(strip=True)\n",
    "    location = location.get_text(strip=True).strip(\" \\r\").strip(\"\\n\")\n",
    "    job_id = html[\"data-jobid\"]\n",
    "\n",
    "    return {\n",
    "        \"title\": title,\n",
    "        \"company\": company,\n",
    "        \"location\": location,\n",
    "        \"apply_link\": f\"https://stackoverflow.com/jobs/{job_id}\"\n",
    "    }\n",
    "\n",
    "\n",
    "def extract_jobs(last_page):\n",
    "    jobs = []\n",
    "    for page in range(last_page):\n",
    "        result = requests.get(f\"{URL}&pg={page+1}\")\n",
    "        soup = BeautifulSoup(result.text, 'html.parser')\n",
    "        results = soup.find_all(\"div\", {\"class\": \"-job\"})\n",
    "        for result in results:\n",
    "            job = extract_job(result)\n",
    "            jobs.append(job)\n",
    "    return jobs\n",
    "\n",
    "\n",
    "def get_jobs():\n",
    "    last_page = get_last_page()\n",
    "    jobs = extract_jobs(last_page)\n",
    "    return jobs"
   ]
  },
  {
   "cell_type": "code",
   "execution_count": 14,
   "metadata": {},
   "outputs": [],
   "source": [
    "import csv\n",
    "\n",
    "def save_to_file(jobs):\n",
    "    file = open(\"jobs.csv\", mode=\"w\" ,encoding=\"utf-8\", newline=\"\")\n",
    "    writer = csv.writer(file)\n",
    "    writer.writerow([\"title\",\"company\",\"location\",\"apply_link\"])\n",
    "    for job in jobs:\n",
    "        writer.writerow(list(job.values()))\n",
    "    return"
   ]
  },
  {
   "cell_type": "code",
   "execution_count": null,
   "metadata": {},
   "outputs": [],
   "source": [
    "save_to_file(get_jobs())"
   ]
  },
  {
   "cell_type": "markdown",
   "metadata": {},
   "source": [
    "Indeed 크롤링 연습 "
   ]
  },
  {
   "cell_type": "code",
   "execution_count": 16,
   "metadata": {},
   "outputs": [],
   "source": [
    "LIMIT = 50\n",
    "URL = f\"https://www.indeed.com/jobs?q=python&limit={LIMIT}\"\n",
    "\n",
    "\n",
    "def extract_indeed_pages():\n",
    "    result = requests.get(URL)\n",
    "    soup = BeautifulSoup(result.text, \"html.parser\")\n",
    "    pagination = soup.find(\"div\", {\"class\": \"pagination\"})\n",
    "\n",
    "    links = pagination.find_all('a')\n",
    "    pages = []\n",
    "    for link in links[:-1]:\n",
    "        pages.append(int(link.string))\n",
    "    max_page = ages[-1]\n",
    "    return max_page\n",
    "\n",
    "\n",
    "def extract_job(html):\n",
    "    title = html.find(\"h2\", {\"class\": \"title\"}).find(\"a\")[\"title\"]\n",
    "    company = html.find(\"span\", {\"class\": \"company\"})\n",
    "    company_anchor = company.find(\"a\")\n",
    "    if company_anchor is not None:\n",
    "        company = str(company_anchor.string)\n",
    "    else:\n",
    "        company = str(company.string)\n",
    "    company = company.strip()\n",
    "    location = html.find(\"div\", {\"class\": \"recJobLoc\"})[\"data-rc-loc\"]\n",
    "    job_id = html[\"data-jk\"]\n",
    "\n",
    "    return {\n",
    "        \"title\": title,\n",
    "        \"company\": company,\n",
    "        \"location\": location,\n",
    "        \"link\": f\"https://www.indeed.com/viewjob?jk={job_id}\"\n",
    "    }\n",
    "\n",
    "\n",
    "def extract_indeed_jobs(max_page):\n",
    "  jobs = []\n",
    "  for page in range(int(max_page)):\n",
    "    result = requests.get(f\"{URL}&start={page*LIMIT}\")\n",
    "    soup = BeautifulSoup(result.text, 'html.parser')\n",
    "    results = soup.find_all(\"div\", {\"class\": \"jobsearch-SerpJobCard\"})\n",
    "    for result in results:\n",
    "        job = extract_job(result)\n",
    "        jobs.append(job)\n",
    "  return jobs"
   ]
  },
  {
   "cell_type": "code",
   "execution_count": null,
   "metadata": {},
   "outputs": [],
   "source": []
  },
  {
   "cell_type": "code",
   "execution_count": 22,
   "metadata": {},
   "outputs": [],
   "source": [
    "save_to_file(extract_indeed_jobs(last_page))"
   ]
  },
  {
   "cell_type": "code",
   "execution_count": 18,
   "metadata": {},
   "outputs": [],
   "source": []
  },
  {
   "cell_type": "code",
   "execution_count": 24,
   "metadata": {},
   "outputs": [],
   "source": []
  },
  {
   "cell_type": "code",
   "execution_count": 25,
   "metadata": {},
   "outputs": [],
   "source": []
  },
  {
   "cell_type": "code",
   "execution_count": null,
   "metadata": {},
   "outputs": [],
   "source": []
  }
 ],
 "metadata": {
  "kernelspec": {
   "display_name": "Python 3",
   "language": "python",
   "name": "python3"
  },
  "language_info": {
   "codemirror_mode": {
    "name": "ipython",
    "version": 3
   },
   "file_extension": ".py",
   "mimetype": "text/x-python",
   "name": "python",
   "nbconvert_exporter": "python",
   "pygments_lexer": "ipython3",
   "version": "3.7.3"
  }
 },
 "nbformat": 4,
 "nbformat_minor": 2
}
