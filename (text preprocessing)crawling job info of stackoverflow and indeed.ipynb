{
 "cells": [
  {
   "cell_type": "markdown",
   "metadata": {},
   "source": [
    "직업명 텍스트 전처리"
   ]
  },
  {
   "cell_type": "code",
   "execution_count": 1,
   "metadata": {},
   "outputs": [
    {
     "name": "stdout",
     "output_type": "stream",
     "text": [
      "['Python Software Engineer Glasgow Associate', 'Back End Developer Python Django ', 'SENIOR SOFTWARE ENGINEER PYTHON ', 'Infrastructure Developer Python', 'Full Stack Engineer Python OR Javascript ', 'Python Software Developer', 'Senior Python Engineer', 'Python Back End Engineer', 'Python Backend Engineer', 'Software Developer Python ']\n"
     ]
    }
   ],
   "source": [
    "import pandas as pd\n",
    "import re\n",
    "from collections import Counter\n",
    "from wordcloud import WordCloud, STOPWORDS\n",
    "import matplotlib\n",
    "import matplotlib.pyplot as plt\n",
    "%matplotlib inline\n",
    "\n",
    "###### 파이썬에서는 경로명을 쓸 때 '/'를 써야함 \n",
    "df = pd.read_csv(\"C:/workspace/jobs.csv\", sep=',', encoding='utf-8')\n",
    "\n",
    "\n",
    "###### 이름을 지정하여 위치를 선택시: loc / 인덱스 번호로 위치를 선택시: iloc \n",
    "###### re.sub(살릴내용, 바꾸고싶은결과, 데이터): 문자열 치환 \n",
    "title_list = df.loc[:,\"title\"].values\n",
    "new_data = []\n",
    "for num in range(len(title_list)):\n",
    "    text = re.sub('[^a-zA-Z/-]+', \"ㄲ\", title_list[num])\n",
    "    if \"ㄲ\" in text:\n",
    "        new_data.append(text)\n",
    "    else:\n",
    "        new_data.append('')\n",
    "        \n",
    "        \n",
    "new_data2 = []\n",
    "for num in range(len(new_data)):\n",
    "    new_data2.append(re.sub('[^a-zA-Z]+', \" \", new_data[num]))\n",
    "print(new_data2[:10])\n",
    "\n",
    "\n",
    "##### split함수는 문자열과 리스트 모두 가능 \n",
    "##### [][]: 이차열 리스트 \n",
    "new_data3 = []\n",
    "new_data4 = []\n",
    "for num in range(len(new_data2)):\n",
    "    new_data3.append(new_data2[num].split())\n",
    "    for cnt in range(len(new_data3[num])):\n",
    "        new_data4.append(new_data3[num][cnt])"
   ]
  },
  {
   "cell_type": "markdown",
   "metadata": {
    "scrolled": false
   },
   "source": [
    "나라명 텍스트 전처리"
   ]
  },
  {
   "cell_type": "code",
   "execution_count": null,
   "metadata": {},
   "outputs": [],
   "source": [
    "###### pd.read_csv로 불러온 후 에러가 뜬다면 astype()으로 타입을 바꿔보기\n",
    "###### startswith: 해당문자열로 시작하는 것을 찾음 \n",
    "location = df.location.astype(str)\n",
    "location_list = df.loc[:,\"location\"].values\n",
    "new_location1 = []\n",
    "for num in range(len(location_list)):\n",
    "    if location_list[num].startswith('http'):\n",
    "        new_location1.append('')\n",
    "    else:\n",
    "        new_location1.append(location_list[num])\n",
    "        \n",
    "        \n",
    "new_location2 = []\n",
    "for num in range(len(new_location1)):\n",
    "    split_words = new_location1[num].split(',')\n",
    "    if len(split_words) == 2:\n",
    "        new_location2.append(split_words[1])\n",
    "    else:\n",
    "        new_location2.append(split_words[0])"
   ]
  },
  {
   "cell_type": "markdown",
   "metadata": {},
   "source": [
    "Counter를 이용하여 단어의 빈도수 계산"
   ]
  },
  {
   "cell_type": "code",
   "execution_count": null,
   "metadata": {},
   "outputs": [],
   "source": [
    "c = Counter(new_data4)\n",
    "words = dict(c.most_common(50))"
   ]
  },
  {
   "cell_type": "markdown",
   "metadata": {},
   "source": [
    "워드 클라우드 "
   ]
  },
  {
   "cell_type": "code",
   "execution_count": null,
   "metadata": {},
   "outputs": [],
   "source": [
    "matplotlib.rc('font',family = 'Malgun Gothic')\n",
    "spwords=set(STOPWORDS)\n",
    "spwords.add('No office location')\n",
    "wordcloud = WordCloud(font_path = 'C:/Windows/Fonts/malgun.ttf', \n",
    "                      stopwords = spwords, background_color='white',colormap = \"Accent_r\",\n",
    "                      width=2000, height=1500).generate_from_frequencies(words)\n",
    "\n",
    "plt.figure(figsize=(10,8))\n",
    "plt.imshow(wordcloud)\n",
    "plt.axis('off')\n",
    "plt.tight_layout(pad=0)\n",
    "plt.show() "
   ]
  }
 ],
 "metadata": {
  "kernelspec": {
   "display_name": "Python 3",
   "language": "python",
   "name": "python3"
  },
  "language_info": {
   "codemirror_mode": {
    "name": "ipython",
    "version": 3
   },
   "file_extension": ".py",
   "mimetype": "text/x-python",
   "name": "python",
   "nbconvert_exporter": "python",
   "pygments_lexer": "ipython3",
   "version": "3.7.3"
  }
 },
 "nbformat": 4,
 "nbformat_minor": 2
}
